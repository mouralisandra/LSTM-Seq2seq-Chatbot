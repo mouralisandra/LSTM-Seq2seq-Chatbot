{
 "cells": [
  {
   "cell_type": "code",
   "execution_count": 327,
   "id": "31196d32",
   "metadata": {
    "id": "31196d32"
   },
   "outputs": [],
   "source": [
    "import pandas as pd\n",
    "import numpy as np\n",
    "import tensorflow as tf\n",
    "import pickle\n",
    "from tensorflow.keras import layers , activations , models , preprocessing\n",
    "from tensorflow.keras import preprocessing , utils\n",
    "from gensim.models import Word2Vec\n",
    "import re"
   ]
  },
  {
   "cell_type": "code",
   "execution_count": 328,
   "id": "d6c5c256",
   "metadata": {
    "id": "d6c5c256"
   },
   "outputs": [],
   "source": [
    "lines = open('data/movie_lines.txt',  encoding='utf-8', errors ='ignore').read().split('\\n')\n",
    "conversations_lines = open('data/movie_conversations.txt',  encoding='utf-8', errors ='ignore').read().split('\\n')"
   ]
  },
  {
   "cell_type": "code",
   "execution_count": 329,
   "id": "a73eb1e6",
   "metadata": {
    "colab": {
     "base_uri": "https://localhost:8080/"
    },
    "id": "a73eb1e6",
    "outputId": "2614c878-b39e-476b-91e4-500f3181c819"
   },
   "outputs": [
    {
     "data": {
      "text/plain": [
       "['L1045 +++$+++ u0 +++$+++ m0 +++$+++ BIANCA +++$+++ They do not!',\n",
       " 'L1044 +++$+++ u2 +++$+++ m0 +++$+++ CAMERON +++$+++ They do to!',\n",
       " 'L985 +++$+++ u0 +++$+++ m0 +++$+++ BIANCA +++$+++ I hope so.',\n",
       " 'L984 +++$+++ u2 +++$+++ m0 +++$+++ CAMERON +++$+++ She okay?',\n",
       " \"L925 +++$+++ u0 +++$+++ m0 +++$+++ BIANCA +++$+++ Let's go.\"]"
      ]
     },
     "execution_count": 329,
     "metadata": {},
     "output_type": "execute_result"
    }
   ],
   "source": [
    "lines[:5]"
   ]
  },
  {
   "cell_type": "code",
   "execution_count": 330,
   "id": "33804dc6",
   "metadata": {
    "colab": {
     "base_uri": "https://localhost:8080/"
    },
    "id": "33804dc6",
    "outputId": "35b59a30-f5ce-4096-8765-a750d68b3d6d"
   },
   "outputs": [
    {
     "data": {
      "text/plain": [
       "[\"u0 +++$+++ u2 +++$+++ m0 +++$+++ ['L194', 'L195', 'L196', 'L197']\",\n",
       " \"u0 +++$+++ u2 +++$+++ m0 +++$+++ ['L198', 'L199']\",\n",
       " \"u0 +++$+++ u2 +++$+++ m0 +++$+++ ['L200', 'L201', 'L202', 'L203']\",\n",
       " \"u0 +++$+++ u2 +++$+++ m0 +++$+++ ['L204', 'L205', 'L206']\",\n",
       " \"u0 +++$+++ u2 +++$+++ m0 +++$+++ ['L207', 'L208']\"]"
      ]
     },
     "execution_count": 330,
     "metadata": {},
     "output_type": "execute_result"
    }
   ],
   "source": [
    "conversations_lines[:5]"
   ]
  },
  {
   "cell_type": "code",
   "execution_count": 331,
   "id": "621473e5",
   "metadata": {
    "id": "621473e5"
   },
   "outputs": [],
   "source": [
    "# Créer un dictionnaire avec une clé = id et une valeur = texte.\n",
    "id2line = {}\n",
    "for line in lines:\n",
    "    _line = line.split(' +++$+++ ')\n",
    "    if len(_line) == 5:\n",
    "        id2line[_line[0]] = _line[4]"
   ]
  },
  {
   "cell_type": "code",
   "execution_count": 332,
   "id": "fd6fbf58",
   "metadata": {
    "id": "fd6fbf58"
   },
   "outputs": [],
   "source": [
    "# Créer une liste de toutes les lignes des conversations sous forme d'une liste de listes. a list of all conversations' lines\n",
    "conversations = [ ]\n",
    "for line in conversations_lines:\n",
    "    _line = line.split(' +++$+++ ')[-1][1:-1].replace(\"'\",\"\").replace(\" \",\"\")\n",
    "    conversations.append(_line.split(','))"
   ]
  },
  {
   "cell_type": "code",
   "execution_count": 333,
   "id": "863affa3",
   "metadata": {
    "colab": {
     "base_uri": "https://localhost:8080/"
    },
    "id": "863affa3",
    "outputId": "fbc11450-13ec-45fa-866c-e366bdf86452"
   },
   "outputs": [
    {
     "data": {
      "text/plain": [
       "[['L194', 'L195', 'L196', 'L197'],\n",
       " ['L198', 'L199'],\n",
       " ['L200', 'L201', 'L202', 'L203'],\n",
       " ['L204', 'L205', 'L206'],\n",
       " ['L207', 'L208']]"
      ]
     },
     "execution_count": 333,
     "metadata": {},
     "output_type": "execute_result"
    }
   ],
   "source": [
    "conversations[:5]"
   ]
  },
  {
   "cell_type": "code",
   "execution_count": 334,
   "id": "f194d4aa",
   "metadata": {
    "id": "f194d4aa"
   },
   "outputs": [],
   "source": [
    "#Trier les lignes en textes d'entrée et textes de sortie.nputs = []\n",
    "outputs = []\n",
    "\n",
    "for conversation in conversations:\n",
    "    for i in range(len(conversation)-1):\n",
    "        inputs.append(id2line[conversation[i]])\n",
    "        outputs.append(id2line[conversation[i+1]])"
   ]
  },
  {
   "cell_type": "code",
   "execution_count": 335,
   "id": "502bd36e",
   "metadata": {
    "colab": {
     "base_uri": "https://localhost:8080/"
    },
    "id": "502bd36e",
    "outputId": "4cb4d167-9dca-4479-dfbd-0035e6e0f21e"
   },
   "outputs": [
    {
     "name": "stdout",
     "output_type": "stream",
     "text": [
      "Can we make this quick?  Roxanne Korrine and Andrew Barrett are having an incredibly horrendous public break- up on the quad.  Again.\n",
      "Well, I thought we'd start with pronunciation, if that's okay with you.\n",
      "\n",
      "Well, I thought we'd start with pronunciation, if that's okay with you.\n",
      "Not the hacking and gagging and spitting part.  Please.\n",
      "\n",
      "Not the hacking and gagging and spitting part.  Please.\n",
      "Okay... then how 'bout we try out some French cuisine.  Saturday?  Night?\n",
      "\n",
      "You're asking me out.  That's so cute. What's your name again?\n",
      "Forget it.\n",
      "\n",
      "No, no, it's my fault -- we didn't have a proper introduction ---\n",
      "Cameron.\n",
      "\n"
     ]
    }
   ],
   "source": [
    "#Charger quelques paires de textes d'entrée-sortie triées.\n",
    "for i in range(5):\n",
    "    print(inputs[i])\n",
    "    print(outputs[i]+'\\n')\n",
    "    "
   ]
  },
  {
   "cell_type": "code",
   "execution_count": 336,
   "id": "387419a6",
   "metadata": {
    "colab": {
     "base_uri": "https://localhost:8080/"
    },
    "id": "387419a6",
    "outputId": "082d134b-3302-46ac-c53e-43a1bae8f2c8"
   },
   "outputs": [
    {
     "name": "stdout",
     "output_type": "stream",
     "text": [
      "1994544\n",
      "221616\n"
     ]
    }
   ],
   "source": [
    "print(len(inputs))\n",
    "print(len(outputs))"
   ]
  },
  {
   "cell_type": "code",
   "execution_count": 337,
   "id": "e0065099",
   "metadata": {
    "id": "e0065099"
   },
   "outputs": [],
   "source": [
    "# changer le word format et supprimer charactères non necessaires\n",
    "def clean_text(text):\n",
    "\n",
    "    text = text.lower()\n",
    "    \n",
    "    text = re.sub(r\"i'm\", \"i am\", text)\n",
    "    text = re.sub(r\"he's\", \"he is\", text)\n",
    "    text = re.sub(r\"she's\", \"she is\", text)\n",
    "    text = re.sub(r\"it's\", \"it is\", text)\n",
    "    text = re.sub(r\"that's\", \"that is\", text)\n",
    "    text = re.sub(r\"what's\", \"that is\", text)\n",
    "    text = re.sub(r\"where's\", \"where is\", text)\n",
    "    text = re.sub(r\"how's\", \"how is\", text)\n",
    "    text = re.sub(r\"\\'ll\", \" will\", text)\n",
    "    text = re.sub(r\"\\'ve\", \" have\", text)\n",
    "    text = re.sub(r\"\\'re\", \" are\", text)\n",
    "    text = re.sub(r\"\\'d\", \" would\", text)\n",
    "    text = re.sub(r\"\\'re\", \" are\", text)\n",
    "    text = re.sub(r\"won't\", \"will not\", text)\n",
    "    text = re.sub(r\"can't\", \"cannot\", text)\n",
    "    text = re.sub(r\"n't\", \" not\", text)\n",
    "    text = re.sub(r\"n'\", \"ng\", text)\n",
    "    text = re.sub(r\"'bout\", \"about\", text)\n",
    "    text = re.sub(r\"'til\", \"until\", text)\n",
    "    text = re.sub(r\"[-()\\\"#/@;:<>{}`+=~|.!?,]\", \"\", text)\n",
    "    \n",
    "    return text"
   ]
  },
  {
   "cell_type": "code",
   "execution_count": 338,
   "id": "5cc0d568",
   "metadata": {
    "id": "5cc0d568"
   },
   "outputs": [],
   "source": [
    "# Nettoyer les données\n",
    "clean_inputs = []\n",
    "for text in inputs:\n",
    "    clean_inputs.append(clean_text(text))\n",
    "    \n",
    "clean_outputs = []    \n",
    "for text in outputs:\n",
    "    clean_outputs.append(clean_text(text))"
   ]
  },
  {
   "cell_type": "code",
   "execution_count": 339,
   "id": "6821c0f0",
   "metadata": {
    "colab": {
     "base_uri": "https://localhost:8080/"
    },
    "id": "6821c0f0",
    "outputId": "5aa004de-0f5a-45eb-c9a0-fdac86ae142e"
   },
   "outputs": [
    {
     "name": "stdout",
     "output_type": "stream",
     "text": [
      "can we make this quick  roxanne korrine and andrew barrett are having an incredibly horrendous public break up on the quad  again\n",
      "well i thought we would start with pronunciation if that is okay with you\n",
      "\n",
      "well i thought we would start with pronunciation if that is okay with you\n",
      "not the hacking and gagging and spitting part  please\n",
      "\n",
      "not the hacking and gagging and spitting part  please\n",
      "okay then how about we try out some french cuisine  saturday  night\n",
      "\n",
      "you are asking me out  that is so cute that is your name again\n",
      "forget it\n",
      "\n",
      "no no it is my fault  we did not have a proper introduction \n",
      "cameron\n",
      "\n"
     ]
    }
   ],
   "source": [
    "# Charger quelques paires de textes d'entrée-sortie triées.\n",
    "for i in range(5):\n",
    "    print(clean_inputs[i])\n",
    "    print(clean_outputs[i]+'\\n')"
   ]
  },
  {
   "cell_type": "code",
   "execution_count": 340,
   "id": "99d3b05a",
   "metadata": {
    "id": "99d3b05a"
   },
   "outputs": [
    {
     "ename": "IndexError",
     "evalue": "list index out of range",
     "output_type": "error",
     "traceback": [
      "\u001b[1;31m---------------------------------------------------------------------------\u001b[0m",
      "\u001b[1;31mIndexError\u001b[0m                                Traceback (most recent call last)",
      "Cell \u001b[1;32mIn[340], line 13\u001b[0m\n\u001b[0;32m     11\u001b[0m     \u001b[39mif\u001b[39;00m \u001b[39mlen\u001b[39m(text\u001b[39m.\u001b[39msplit()) \u001b[39m>\u001b[39m\u001b[39m=\u001b[39m min_line_length \u001b[39mand\u001b[39;00m \u001b[39mlen\u001b[39m(text\u001b[39m.\u001b[39msplit()) \u001b[39m<\u001b[39m\u001b[39m=\u001b[39m max_line_length:\n\u001b[0;32m     12\u001b[0m         short_inputs_temp\u001b[39m.\u001b[39mappend(text)\n\u001b[1;32m---> 13\u001b[0m         short_outputs_temp\u001b[39m.\u001b[39mappend(clean_outputs[i])\n\u001b[0;32m     14\u001b[0m     i \u001b[39m+\u001b[39m\u001b[39m=\u001b[39m \u001b[39m1\u001b[39m\n\u001b[0;32m     16\u001b[0m \u001b[39m# filter out the output texts that are too short/long\u001b[39;00m\n",
      "\u001b[1;31mIndexError\u001b[0m: list index out of range"
     ]
    }
   ],
   "source": [
    "# remove input and output texts that are shorter than 2 words and longer than 8 words.\n",
    "min_line_length = 2\n",
    "max_line_length = 4\n",
    "\n",
    "# filter out the input texts that are too short/long\n",
    "short_inputs_temp = []\n",
    "short_outputs_temp = []\n",
    "\n",
    "i = 0\n",
    "for text in clean_inputs:\n",
    "    if len(text.split()) >= min_line_length and len(text.split()) <= max_line_length:\n",
    "        short_inputs_temp.append(text)\n",
    "        short_outputs_temp.append(clean_outputs[i])\n",
    "    i += 1\n",
    "\n",
    "# filter out the output texts that are too short/long\n",
    "short_inputs = []\n",
    "short_outputs = []\n",
    "\n",
    "i = 0\n",
    "for text in short_outputs_temp:\n",
    "    if len(text.split()) >= min_line_length and len(text.split()) <= max_line_length:\n",
    "        short_outputs.append(text)\n",
    "        short_inputs.append(short_inputs_temp[i])\n",
    "    i += 1"
   ]
  },
  {
   "cell_type": "code",
   "execution_count": null,
   "id": "fefcdd91",
   "metadata": {
    "colab": {
     "base_uri": "https://localhost:8080/"
    },
    "id": "fefcdd91",
    "outputId": "03a04a71-63db-4f79-b420-fcb20de378db",
    "scrolled": true
   },
   "outputs": [
    {
     "name": "stdout",
     "output_type": "stream",
     "text": [
      "# of questions: 12682\n",
      "# of answers: 12682\n",
      "% of data used: 50.0%\n"
     ]
    }
   ],
   "source": [
    "# Comparaison du nombre de lignes que nous allons utiliser avec le nombre total de lignes.\n",
    "print('# of questions:', len(short_inputs))\n",
    "print('# of answers:', len(short_outputs))\n",
    "print('% of data used: {}%'.format(round(len(short_inputs)/len(inputs),1)*500))"
   ]
  },
  {
   "cell_type": "code",
   "execution_count": null,
   "id": "4ff41f42",
   "metadata": {
    "id": "4ff41f42"
   },
   "outputs": [],
   "source": [
    "# add the end of sentence token to the end of every output.\n",
    "# add the go token to the beginning of every output.\n",
    "for i in range(len(short_outputs)):\n",
    "    short_outputs[i] = '<GO>'+short_outputs[i]+' <EOS>'"
   ]
  },
  {
   "cell_type": "code",
   "execution_count": null,
   "id": "ee157ee9",
   "metadata": {
    "colab": {
     "base_uri": "https://localhost:8080/"
    },
    "id": "ee157ee9",
    "outputId": "a425f185-564b-4332-d1e4-a085f75b7e49"
   },
   "outputs": [
    {
     "name": "stdout",
     "output_type": "stream",
     "text": [
      "VOCAB SIZE : 7786\n"
     ]
    }
   ],
   "source": [
    "tokenizer = preprocessing.text.Tokenizer()\n",
    "tokenizer.fit_on_texts(short_inputs + short_outputs)\n",
    "VOCAB_SIZE = len( tokenizer.word_index )+1\n",
    "print( 'VOCAB SIZE : {}'.format( VOCAB_SIZE ))"
   ]
  },
  {
   "cell_type": "code",
   "execution_count": null,
   "id": "4111c8c1",
   "metadata": {
    "id": "4111c8c1"
   },
   "outputs": [],
   "source": [
    "vocab = []\n",
    "for word in tokenizer.word_index:\n",
    "    vocab.append(word)\n",
    "\n",
    "def tokenize(sentences):\n",
    "    tokens_list = []\n",
    "    vocabulary = []\n",
    "    for sentence in sentences:\n",
    "        tokens = sentence.split()\n",
    "        vocabulary += tokens\n",
    "        tokens_list.append(tokens)\n",
    "    return tokens_list, vocabulary"
   ]
  },
  {
   "cell_type": "code",
   "execution_count": null,
   "id": "9e548bac",
   "metadata": {
    "colab": {
     "base_uri": "https://localhost:8080/"
    },
    "id": "9e548bac",
    "outputId": "53a9d7ad-c5cb-44cf-81fb-9dccc508f0b5"
   },
   "outputs": [
    {
     "name": "stdout",
     "output_type": "stream",
     "text": [
      "(12682, 6) 6\n"
     ]
    }
   ],
   "source": [
    "# encoder_input_data\n",
    "tokenized_inputs = tokenizer.texts_to_sequences(short_inputs)\n",
    "max_len_in = max([len(x) for x in tokenized_inputs])\n",
    "padded_inputs = preprocessing.sequence.pad_sequences(tokenized_inputs, maxlen=max_len_in, padding='post')\n",
    "encoder_input_data = np.array(padded_inputs)\n",
    "print(encoder_input_data.shape, max_len_in)"
   ]
  },
  {
   "cell_type": "code",
   "execution_count": null,
   "id": "cb8d15a9",
   "metadata": {
    "colab": {
     "base_uri": "https://localhost:8080/"
    },
    "id": "cb8d15a9",
    "outputId": "eddddace-bf3d-400a-c89d-cb9329872011"
   },
   "outputs": [
    {
     "name": "stdout",
     "output_type": "stream",
     "text": [
      "(12682, 9) 9\n"
     ]
    }
   ],
   "source": [
    "# decoder_input_data\n",
    "tokenized_outputs = tokenizer.texts_to_sequences(short_outputs)\n",
    "max_len_out = max([len(x) for x in tokenized_outputs])\n",
    "padded_outputs = preprocessing.sequence.pad_sequences(tokenized_outputs, maxlen=max_len_out, padding='post')\n",
    "decoder_input_data = np.array(padded_outputs)\n",
    "print(decoder_input_data.shape, max_len_out)"
   ]
  },
  {
   "cell_type": "code",
   "execution_count": null,
   "id": "b168bff8",
   "metadata": {
    "colab": {
     "base_uri": "https://localhost:8080/"
    },
    "id": "b168bff8",
    "outputId": "eb8b7355-714c-49b2-8b1b-7c404ea45584"
   },
   "outputs": [
    {
     "name": "stdout",
     "output_type": "stream",
     "text": [
      "(12682, 9, 7786)\n"
     ]
    }
   ],
   "source": [
    "# decoder_output_data\n",
    "tokenized_outputs = tokenizer.texts_to_sequences(short_outputs)\n",
    "for i in range(len(tokenized_outputs)) :\n",
    "    tokenized_outputs[i] = tokenized_outputs[i][1:-1]\n",
    "padded_outputs = preprocessing.sequence.pad_sequences(tokenized_outputs, maxlen=max_len_out, padding='post')\n",
    "onehot_outputs = utils.to_categorical(padded_outputs ,VOCAB_SIZE)\n",
    "decoder_output_data = np.array(onehot_outputs)\n",
    "print(decoder_output_data.shape)"
   ]
  },
  {
   "cell_type": "code",
   "execution_count": null,
   "id": "nyg0G-cjDDgc",
   "metadata": {
    "colab": {
     "base_uri": "https://localhost:8080/"
    },
    "id": "nyg0G-cjDDgc",
    "outputId": "aedf8eb1-3438-4730-cd00-e34075629dda"
   },
   "outputs": [
    {
     "name": "stdout",
     "output_type": "stream",
     "text": [
      "Model: \"model_17\"\n",
      "__________________________________________________________________________________________________\n",
      " Layer (type)                   Output Shape         Param #     Connected to                     \n",
      "==================================================================================================\n",
      " input_31 (InputLayer)          [(None, 6)]          0           []                               \n",
      "                                                                                                  \n",
      " input_32 (InputLayer)          [(None, 9)]          0           []                               \n",
      "                                                                                                  \n",
      " embedding_14 (Embedding)       (None, 6, 200)       1557200     ['input_31[0][0]']               \n",
      "                                                                                                  \n",
      " embedding_15 (Embedding)       (None, 9, 200)       1557200     ['input_32[0][0]']               \n",
      "                                                                                                  \n",
      " lstm_14 (LSTM)                 [(None, 200),        320800      ['embedding_14[0][0]']           \n",
      "                                 (None, 200),                                                     \n",
      "                                 (None, 200)]                                                     \n",
      "                                                                                                  \n",
      " lstm_15 (LSTM)                 [(None, 9, 200),     320800      ['embedding_15[0][0]',           \n",
      "                                 (None, 200),                     'lstm_14[0][1]',                \n",
      "                                 (None, 200)]                     'lstm_14[0][2]']                \n",
      "                                                                                                  \n",
      " dense_6 (Dense)                (None, 9, 7786)      1564986     ['lstm_15[0][0]']                \n",
      "                                                                                                  \n",
      "==================================================================================================\n",
      "Total params: 5,320,986\n",
      "Trainable params: 5,320,986\n",
      "Non-trainable params: 0\n",
      "__________________________________________________________________________________________________\n"
     ]
    }
   ],
   "source": [
    "encoder_inputs = tf.keras.layers.Input(shape=(max_len_in , ))\n",
    "encoder_embedding = tf.keras.layers.Embedding( VOCAB_SIZE, 200 , mask_zero=True ) (encoder_inputs)\n",
    "encoder_outputs , state_h , state_c = tf.keras.layers.LSTM( 200 , return_state=True )( encoder_embedding )\n",
    "encoder_states = [ state_h , state_c ]\n",
    "\n",
    "decoder_inputs = tf.keras.layers.Input(shape=( max_len_out ,  ))\n",
    "decoder_embedding = tf.keras.layers.Embedding( VOCAB_SIZE, 200 , mask_zero=True) (decoder_inputs)\n",
    "decoder_lstm = tf.keras.layers.LSTM( 200 , return_state=True , return_sequences=True )\n",
    "decoder_outputs , _ , _ = decoder_lstm ( decoder_embedding , initial_state=encoder_states )\n",
    "decoder_dense = tf.keras.layers.Dense( VOCAB_SIZE , activation=tf.keras.activations.softmax ) \n",
    "output = decoder_dense ( decoder_outputs )\n",
    "\n",
    "model = tf.keras.models.Model([encoder_inputs, decoder_inputs], output )\n",
    "model.compile(optimizer=tf.keras.optimizers.RMSprop(), loss='categorical_crossentropy', metrics = ['accuracy'])\n",
    "\n",
    "model.summary()"
   ]
  },
  {
   "cell_type": "code",
   "execution_count": null,
   "id": "15605348",
   "metadata": {
    "colab": {
     "base_uri": "https://localhost:8080/"
    },
    "id": "15605348",
    "outputId": "f53b0750-2611-488d-ec39-b7df4ffaf6fb"
   },
   "outputs": [
    {
     "name": "stdout",
     "output_type": "stream",
     "text": [
      "Epoch 1/15\n",
      "318/318 [==============================] - 31s 80ms/step - loss: 4.5837 - accuracy: 0.4063\n",
      "Epoch 2/15\n",
      "318/318 [==============================] - 24s 77ms/step - loss: 3.9673 - accuracy: 0.4280\n",
      "Epoch 3/15\n",
      "318/318 [==============================] - 24s 77ms/step - loss: 3.8665 - accuracy: 0.4360\n",
      "Epoch 4/15\n",
      "318/318 [==============================] - 25s 80ms/step - loss: 3.8034 - accuracy: 0.4440\n",
      "Epoch 5/15\n",
      "318/318 [==============================] - 25s 79ms/step - loss: 3.7505 - accuracy: 0.4469\n",
      "Epoch 6/15\n",
      "318/318 [==============================] - 25s 78ms/step - loss: 3.7057 - accuracy: 0.4519\n",
      "Epoch 7/15\n",
      "318/318 [==============================] - 25s 80ms/step - loss: 3.6648 - accuracy: 0.4539\n",
      "Epoch 8/15\n",
      "318/318 [==============================] - 23s 72ms/step - loss: 3.6226 - accuracy: 0.4564\n",
      "Epoch 9/15\n",
      "318/318 [==============================] - 24s 76ms/step - loss: 3.5843 - accuracy: 0.4590\n",
      "Epoch 10/15\n",
      "318/318 [==============================] - 23s 74ms/step - loss: 3.5479 - accuracy: 0.4610\n",
      "Epoch 11/15\n",
      "318/318 [==============================] - 24s 75ms/step - loss: 3.5160 - accuracy: 0.4642\n",
      "Epoch 12/15\n",
      "318/318 [==============================] - 23s 72ms/step - loss: 3.4835 - accuracy: 0.4669\n",
      "Epoch 13/15\n",
      "318/318 [==============================] - 22s 70ms/step - loss: 3.4527 - accuracy: 0.4692\n",
      "Epoch 14/15\n",
      "318/318 [==============================] - 22s 69ms/step - loss: 3.4243 - accuracy: 0.4713\n",
      "Epoch 15/15\n",
      "318/318 [==============================] - 23s 72ms/step - loss: 3.3964 - accuracy: 0.4736\n"
     ]
    }
   ],
   "source": [
    "model.fit([encoder_input_data , decoder_input_data], decoder_output_data, batch_size=100, epochs=10, validation_split=0.2)\n",
    "model.save( 'model.h5' ) "
   ]
  },
  {
   "cell_type": "code",
   "execution_count": null,
   "id": "5e0c85ce",
   "metadata": {
    "colab": {
     "base_uri": "https://localhost:8080/",
     "height": 265
    },
    "id": "5e0c85ce",
    "outputId": "26e5a188-5621-42d2-b06b-f6547d8781c5"
   },
   "outputs": [
    {
     "data": {
      "image/png": "[encoded data removed]",
      "text/plain": [
       "<Figure size 640x480 with 1 Axes>"
      ]
     },
     "metadata": {},
     "output_type": "display_data"
    }
   ],
   "source": [
    "import matplotlib.pyplot as plt\n",
    "accuracy = model.history.history['accuracy']\n",
    "loss = model.history.history['loss']\n",
    "epochs = range(len(accuracy))\n",
    "plt.plot(epochs, accuracy, 'g')\n",
    "plt.plot(epochs, loss, 'b')\n",
    "plt.legend(['Accuracy','Loss'])\n",
    "plt.show()"
   ]
  },
  {
   "cell_type": "code",
   "execution_count": null,
   "id": "52df2d2c",
   "metadata": {
    "id": "52df2d2c"
   },
   "outputs": [],
   "source": [
    "def make_inference_models():\n",
    "    \n",
    "    encoder_model = tf.keras.models.Model(encoder_inputs, encoder_states)\n",
    "    \n",
    "    decoder_state_input_h = tf.keras.layers.Input(shape=( 200 ,))\n",
    "    decoder_state_input_c = tf.keras.layers.Input(shape=( 200 ,))\n",
    "    \n",
    "    decoder_states_inputs = [decoder_state_input_h, decoder_state_input_c]\n",
    "    \n",
    "    decoder_outputs, state_h, state_c = decoder_lstm(\n",
    "        decoder_embedding , initial_state=decoder_states_inputs)\n",
    "    decoder_states = [state_h, state_c]\n",
    "    decoder_outputs = decoder_dense(decoder_outputs)\n",
    "    decoder_model = tf.keras.models.Model(\n",
    "        [decoder_inputs] + decoder_states_inputs,\n",
    "        [decoder_outputs] + decoder_states)\n",
    "    \n",
    "    return encoder_model , decoder_model"
   ]
  },
  {
   "cell_type": "code",
   "execution_count": null,
   "id": "eab02a92",
   "metadata": {
    "id": "eab02a92"
   },
   "outputs": [],
   "source": [
    "def str_to_tokens( sentence : str ):\n",
    "    words = sentence.lower().split()\n",
    "    tokens_list = list()\n",
    "    for word in words:\n",
    "        tokens_list.append( tokenizer.word_index[ word ] ) \n",
    "    return preprocessing.sequence.pad_sequences( [tokens_list] , maxlen=max_len_in , padding='post')"
   ]
  },
  {
   "cell_type": "code",
   "execution_count": null,
   "id": "f8af9797",
   "metadata": {
    "colab": {
     "base_uri": "https://localhost:8080/",
     "height": 817
    },
    "id": "f8af9797",
    "outputId": "fbe1ee5d-d4db-48a3-ea4c-524bce730884"
   },
   "outputs": [
    {
     "name": "stdout",
     "output_type": "stream",
     "text": [
      "1/1 [==============================] - 1s 718ms/step\n",
      "1/1 [==============================] - 1s 739ms/step\n",
      "1/1 [==============================] - 0s 17ms/step\n",
      "1/1 [==============================] - 0s 16ms/step\n",
      "1/1 [==============================] - 0s 14ms/step\n",
      "1/1 [==============================] - 0s 18ms/step\n",
      "1/1 [==============================] - 0s 17ms/step\n",
      "1/1 [==============================] - 0s 17ms/step\n",
      "1/1 [==============================] - 0s 16ms/step\n",
      "1/1 [==============================] - 0s 18ms/step\n",
      "1/1 [==============================] - 0s 16ms/step\n",
      "1/1 [==============================] - 0s 20ms/step\n",
      "1/1 [==============================] - 0s 19ms/step\n",
      "1/1 [==============================] - 0s 20ms/step\n",
      "1/1 [==============================] - 0s 20ms/step\n",
      "1/1 [==============================] - 0s 17ms/step\n",
      "1/1 [==============================] - 0s 18ms/step\n",
      "1/1 [==============================] - 0s 18ms/step\n",
      "1/1 [==============================] - 0s 18ms/step\n",
      " good night little little little little little little little little\n",
      "1/1 [==============================] - 0s 16ms/step\n",
      "1/1 [==============================] - 0s 18ms/step\n",
      "1/1 [==============================] - 0s 17ms/step\n",
      "1/1 [==============================] - 0s 17ms/step\n",
      "1/1 [==============================] - 0s 18ms/step\n",
      "1/1 [==============================] - 0s 19ms/step\n",
      "1/1 [==============================] - 0s 18ms/step\n",
      "1/1 [==============================] - 0s 22ms/step\n",
      "1/1 [==============================] - 0s 17ms/step\n",
      "1/1 [==============================] - 0s 17ms/step\n",
      "1/1 [==============================] - 0s 18ms/step\n",
      "1/1 [==============================] - 0s 15ms/step\n",
      "1/1 [==============================] - 0s 17ms/step\n",
      "1/1 [==============================] - 0s 18ms/step\n",
      "1/1 [==============================] - 0s 16ms/step\n",
      "1/1 [==============================] - 0s 17ms/step\n",
      "1/1 [==============================] - 0s 16ms/step\n",
      "1/1 [==============================] - 0s 18ms/step\n",
      " i am not little little little little little little little\n"
     ]
    },
    {
     "ename": "KeyError",
     "evalue": "'dumbass'",
     "output_type": "error",
     "traceback": [
      "\u001b[1;31m---------------------------------------------------------------------------\u001b[0m",
      "\u001b[1;31mKeyError\u001b[0m                                  Traceback (most recent call last)",
      "Cell \u001b[1;32mIn[224], line 4\u001b[0m\n\u001b[0;32m      1\u001b[0m enc_model , dec_model \u001b[39m=\u001b[39m make_inference_models()\n\u001b[0;32m      3\u001b[0m \u001b[39mfor\u001b[39;00m _ \u001b[39min\u001b[39;00m \u001b[39mrange\u001b[39m(\u001b[39m10\u001b[39m):\n\u001b[1;32m----> 4\u001b[0m     states_values \u001b[39m=\u001b[39m enc_model\u001b[39m.\u001b[39mpredict( str_to_tokens( \u001b[39minput\u001b[39;49m( \u001b[39m'\u001b[39;49m\u001b[39mEnter question : \u001b[39;49m\u001b[39m'\u001b[39;49m ) ) )\n\u001b[0;32m      5\u001b[0m     empty_target_seq \u001b[39m=\u001b[39m np\u001b[39m.\u001b[39mzeros( ( \u001b[39m1\u001b[39m , \u001b[39m1\u001b[39m ) )\n\u001b[0;32m      6\u001b[0m     empty_target_seq[\u001b[39m0\u001b[39m, \u001b[39m0\u001b[39m] \u001b[39m=\u001b[39m tokenizer\u001b[39m.\u001b[39mword_index[\u001b[39m'\u001b[39m\u001b[39mgo\u001b[39m\u001b[39m'\u001b[39m]\n",
      "Cell \u001b[1;32mIn[223], line 5\u001b[0m, in \u001b[0;36mstr_to_tokens\u001b[1;34m(sentence)\u001b[0m\n\u001b[0;32m      3\u001b[0m tokens_list \u001b[39m=\u001b[39m \u001b[39mlist\u001b[39m()\n\u001b[0;32m      4\u001b[0m \u001b[39mfor\u001b[39;00m word \u001b[39min\u001b[39;00m words:\n\u001b[1;32m----> 5\u001b[0m     tokens_list\u001b[39m.\u001b[39mappend( tokenizer\u001b[39m.\u001b[39;49mword_index[ word ] ) \n\u001b[0;32m      6\u001b[0m \u001b[39mreturn\u001b[39;00m preprocessing\u001b[39m.\u001b[39msequence\u001b[39m.\u001b[39mpad_sequences( [tokens_list] , maxlen\u001b[39m=\u001b[39mmax_len_in , padding\u001b[39m=\u001b[39m\u001b[39m'\u001b[39m\u001b[39mpost\u001b[39m\u001b[39m'\u001b[39m)\n",
      "\u001b[1;31mKeyError\u001b[0m: 'dumbass'"
     ]
    }
   ],
   "source": [
    "enc_model , dec_model = make_inference_models()\n",
    "\n",
    "for _ in range(10):\n",
    "    states_values = enc_model.predict( str_to_tokens( input( 'Enter question : ' ) ) )\n",
    "    empty_target_seq = np.zeros( ( 1 , 1 ) )\n",
    "    empty_target_seq[0, 0] = tokenizer.word_index['go']\n",
    "    stop_condition = False\n",
    "    decoded_translation = ''\n",
    "    while not stop_condition :\n",
    "        dec_outputs , h , c = dec_model.predict([ empty_target_seq ] + states_values )\n",
    "        sampled_word_index = np.argmax( dec_outputs[0, -1, :] )\n",
    "        sampled_word = None\n",
    "        for word , index in tokenizer.word_index.items() :\n",
    "            if sampled_word_index == index :\n",
    "                decoded_translation += ' {}'.format( word )\n",
    "                sampled_word = word\n",
    "        \n",
    "        if sampled_word == 'eos' or len(decoded_translation.split()) > max_len_out:\n",
    "            stop_condition = True\n",
    "            \n",
    "        empty_target_seq = np.zeros( ( 1 , 1 ) )  \n",
    "        empty_target_seq[ 0 , 0 ] = sampled_word_index\n",
    "        states_values = [ h , c ] \n",
    "\n",
    "    print( decoded_translation )"
   ]
  },
  {
   "cell_type": "code",
   "execution_count": null,
   "id": "88acdfae",
   "metadata": {
    "id": "88acdfae"
   },
   "outputs": [],
   "source": []
  }
 ],
 "metadata": {
  "accelerator": "TPU",
  "colab": {
   "name": "preprocessing.ipynb",
   "provenance": []
  },
  "kernelspec": {
   "display_name": "Python 3 (ipykernel)",
   "language": "python",
   "name": "python3"
  },
  "language_info": {
   "codemirror_mode": {
    "name": "ipython",
    "version": 3
   },
   "file_extension": ".py",
   "mimetype": "text/x-python",
   "name": "python",
   "nbconvert_exporter": "python",
   "pygments_lexer": "ipython3",
   "version": "3.11.2"
  }
 },
 "nbformat": 4,
 "nbformat_minor": 5
}
